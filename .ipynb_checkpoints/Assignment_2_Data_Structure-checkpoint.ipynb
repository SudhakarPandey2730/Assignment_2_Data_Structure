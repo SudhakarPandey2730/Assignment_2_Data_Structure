{
 "cells": [
  {
   "cell_type": "markdown",
   "id": "a7b8ae4d-d5d2-4246-8384-2b1f11cec9af",
   "metadata": {},
   "source": [
    "# Assignment 2 - Data Structure"
   ]
  },
  {
   "cell_type": "markdown",
   "id": "b1bbb223-4155-4d5f-98f7-f35716b9aebe",
   "metadata": {},
   "source": [
    "## Question_1 : Discuss string slicing and provide examples"
   ]
  },
  {
   "cell_type": "markdown",
   "id": "fe737bbe-44e8-4337-8662-81de906f098b",
   "metadata": {},
   "source": [
    "### Solution:"
   ]
  },
  {
   "cell_type": "markdown",
   "id": "b2db9409-fd24-4418-9266-4a4bf7c11866",
   "metadata": {},
   "source": [
    "#### String slicing is a way to extract a portion of a string using indices. "
   ]
  },
  {
   "cell_type": "markdown",
   "id": "bc02fac5-82fe-4a9d-b9e3-b3a732c87b03",
   "metadata": {},
   "source": [
    "#### In other words, we can say that string slicing provides a method to access a substring from the original string without altering it."
   ]
  },
  {
   "cell_type": "markdown",
   "id": "9ba48a07-7a7f-43a6-ae3b-4a1dc9c97866",
   "metadata": {},
   "source": [
    "#### General Syntax of using string slicing:"
   ]
  },
  {
   "cell_type": "markdown",
   "id": "b081b3a9-04e9-41b1-8de1-3383cc0f6ad0",
   "metadata": {},
   "source": [
    "#### string[start_index, stop_index, step_size]"
   ]
  },
  {
   "cell_type": "raw",
   "id": "ab801177-d9c4-4bc4-abbd-b0502be8a055",
   "metadata": {},
   "source": [
    "where, start_index is the index where the slice begins (inclusive).\n",
    "       end_index is the index where the slice begins (enclusive).\n",
    "       step_size is the nterval between characters to include in the slice (optional, default is 1)"
   ]
  },
  {
   "cell_type": "markdown",
   "id": "edbad175-4445-447c-be36-9db43ba2ea30",
   "metadata": {},
   "source": [
    "#### Examples :"
   ]
  },
  {
   "cell_type": "markdown",
   "id": "6845ae73-bfe6-4fa5-b0d7-32ff60885dd2",
   "metadata": {},
   "source": [
    "### 1. Basic Slicing:"
   ]
  },
  {
   "cell_type": "code",
   "execution_count": 1,
   "id": "cdb1da9b-2c2a-4fa3-8120-3700793557c2",
   "metadata": {},
   "outputs": [
    {
     "name": "stdout",
     "output_type": "stream",
     "text": [
      "Hello\n"
     ]
    }
   ],
   "source": [
    "text = \"Hello, World!\"\n",
    "print(text[0:5])  # Output: Hello"
   ]
  },
  {
   "cell_type": "markdown",
   "id": "d43174a3-7ba3-4058-b0b5-512dfd57575b",
   "metadata": {},
   "source": [
    "##### Explanation: This slice starts at index 0 and ends before index 5, extracting the substring \"Hello\""
   ]
  },
  {
   "cell_type": "markdown",
   "id": "dccc27ac-4f22-4e06-aabe-43f8b209a9b2",
   "metadata": {},
   "source": [
    "### 2. Omitting start_index "
   ]
  },
  {
   "cell_type": "markdown",
   "id": "ae66abb3-737d-4cf3-898d-641fb869b14c",
   "metadata": {},
   "source": [
    "####  It means the slice starts from the beginning."
   ]
  },
  {
   "cell_type": "code",
   "execution_count": 2,
   "id": "8f74dd7c-9030-4dde-b1be-e26a5f26efbc",
   "metadata": {},
   "outputs": [
    {
     "name": "stdout",
     "output_type": "stream",
     "text": [
      "Hello\n"
     ]
    }
   ],
   "source": [
    "text = \"Hello, World!\"\n",
    "print(text[:5])    # Output: Hello"
   ]
  },
  {
   "cell_type": "markdown",
   "id": "ebcc75dd-9b5d-42ed-b91a-da3272dbb59b",
   "metadata": {},
   "source": [
    "##### Here, text[:5] slices is from the start to index 5 (exclusive) of the original text."
   ]
  },
  {
   "cell_type": "markdown",
   "id": "4e3ad7c5-59ff-4895-9e1f-8d47aa324e28",
   "metadata": {},
   "source": [
    "### 3. Omitting stop_index"
   ]
  },
  {
   "cell_type": "markdown",
   "id": "dace4351-6d3a-403e-989d-7f0c981685c7",
   "metadata": {},
   "source": [
    "#### It means the slice continues to the end."
   ]
  },
  {
   "cell_type": "code",
   "execution_count": 3,
   "id": "9773418a-48ea-4acd-9bc3-bed565b19135",
   "metadata": {},
   "outputs": [
    {
     "name": "stdout",
     "output_type": "stream",
     "text": [
      "World!\n"
     ]
    }
   ],
   "source": [
    "text = \"Hello, World!\"\n",
    "print(text[7:])    # Output: World!"
   ]
  },
  {
   "cell_type": "markdown",
   "id": "893ad591-592a-4821-996c-62bba8687ebb",
   "metadata": {},
   "source": [
    "##### Here, text[7:] slices is from index 7 to the end of the original string i.e., text."
   ]
  },
  {
   "cell_type": "markdown",
   "id": "7a4774bd-2f38-4f6e-9113-82342ee8336a",
   "metadata": {},
   "source": [
    "### 4. Negative Indices"
   ]
  },
  {
   "cell_type": "markdown",
   "id": "72e3e8ab-89a0-417d-9e50-a3833e9d8503",
   "metadata": {},
   "source": [
    "#### Negative indices allow counting from the end of the string."
   ]
  },
  {
   "cell_type": "code",
   "execution_count": 4,
   "id": "6cf4a3e4-8a5d-4a60-983e-a9a77d90786c",
   "metadata": {},
   "outputs": [
    {
     "name": "stdout",
     "output_type": "stream",
     "text": [
      "World!\n",
      "Hello\n"
     ]
    }
   ],
   "source": [
    "text = \"Hello, World!\"\n",
    "print(text[-6:])   # Output: World!\n",
    "print(text[:-8])   # Output: Hello"
   ]
  },
  {
   "cell_type": "markdown",
   "id": "fd734178-0f47-4877-be60-76615b98089d",
   "metadata": {},
   "source": [
    "##### Here, text[-6:] starts 6 characters from the end and goes to the end.\n",
    "##### And, text[:-8]  starts from the beginning and goes up to (but not including) 8 characters from the end."
   ]
  },
  {
   "cell_type": "markdown",
   "id": "715c8490-c911-4198-92db-171009da220f",
   "metadata": {},
   "source": [
    "#### 5. Using step_size other than default value (which is 1)"
   ]
  },
  {
   "cell_type": "code",
   "execution_count": 5,
   "id": "ce4f55ca-54b2-468c-8aa9-f83a3ce9d4f1",
   "metadata": {},
   "outputs": [
    {
     "name": "stdout",
     "output_type": "stream",
     "text": [
      "el\n"
     ]
    }
   ],
   "source": [
    "text = \"Hello, World!\"\n",
    "print(text[1:5:2])   # Output: el"
   ]
  },
  {
   "cell_type": "markdown",
   "id": "32ff28e2-9042-43b8-ace0-2b76f461df8e",
   "metadata": {},
   "source": [
    "##### Here, text[1:5:2] means that slicing will be done such that it will start from index 1 (inclusive) and goes upto index 5 (exclusive) and skips every second character as step_size is 2."
   ]
  },
  {
   "cell_type": "markdown",
   "id": "7c0c9740-7801-435c-a5a5-49ea21769083",
   "metadata": {},
   "source": [
    "________________________"
   ]
  },
  {
   "cell_type": "markdown",
   "id": "fd0b7282-3453-45a5-8c7a-8772edd033c0",
   "metadata": {},
   "source": [
    "## Question_2 : Explain the key features of lists in Python."
   ]
  },
  {
   "cell_type": "markdown",
   "id": "fa60480f-1b14-4e05-b2fa-360a02361484",
   "metadata": {},
   "source": [
    "### Solution :"
   ]
  },
  {
   "cell_type": "markdown",
   "id": "6b48c9a0-4bd1-46f2-a8d4-a37bb0feeaac",
   "metadata": {},
   "source": [
    "#### List is a sequential, ordered and hetrogeneous collection of data. "
   ]
  },
  {
   "cell_type": "markdown",
   "id": "1ba45802-b1e5-45e5-b12e-0226b94ab820",
   "metadata": {},
   "source": [
    "#### Key Features of lists are mentioned below :"
   ]
  },
  {
   "cell_type": "markdown",
   "id": "435c8051-fbce-4416-be0c-70552b1e18d8",
   "metadata": {},
   "source": [
    "### 1. Ordered Collection :"
   ]
  },
  {
   "cell_type": "markdown",
   "id": "aaf6e429-93a7-4613-b79b-35c9ef08b401",
   "metadata": {},
   "source": [
    "#### Lists maintain the order of elements. The order in which we insert items is preserved."
   ]
  },
  {
   "cell_type": "markdown",
   "id": "dbb0ec1f-f189-43a9-879a-3cbd189b914c",
   "metadata": {},
   "source": [
    "#### Each element in a list has an index, starting from 0 for the first element, and negative indices can be used to access elements from the end."
   ]
  },
  {
   "cell_type": "code",
   "execution_count": 6,
   "id": "664bf1be-97cc-4ae3-95c8-20b21bbab913",
   "metadata": {},
   "outputs": [
    {
     "name": "stdout",
     "output_type": "stream",
     "text": [
      "10\n",
      "30\n"
     ]
    }
   ],
   "source": [
    "my_list = [10, 20, 30]\n",
    "print(my_list[0])   # Output: 10\n",
    "print(my_list[-1])  # Output: 30"
   ]
  },
  {
   "cell_type": "markdown",
   "id": "49bee00e-fa41-4bc7-95a4-99cde9be1123",
   "metadata": {},
   "source": [
    "### 2. Mutable :"
   ]
  },
  {
   "cell_type": "markdown",
   "id": "ad86358b-50c7-48ef-a568-cf5288da4e31",
   "metadata": {},
   "source": [
    "#### Lists are mutable, meaning you can change their contents after creation. You can modify elements, append new items, remove items, or alter the list in place"
   ]
  },
  {
   "cell_type": "markdown",
   "id": "6f53e4ba-f1bc-4081-98c3-fc00d3e9b1e2",
   "metadata": {},
   "source": [
    "##### Example :"
   ]
  },
  {
   "cell_type": "code",
   "execution_count": 7,
   "id": "07cf0ca7-4c5e-4902-ba8a-ca2a5a5d0268",
   "metadata": {},
   "outputs": [
    {
     "name": "stdout",
     "output_type": "stream",
     "text": [
      "[10, 2, 3]\n"
     ]
    }
   ],
   "source": [
    "my_list = [1, 2, 3]\n",
    "my_list[0] = 10\n",
    "print(my_list)   # Output: [10, 2, 3]"
   ]
  },
  {
   "cell_type": "markdown",
   "id": "6de55069-e1d3-4d83-9b78-a38c44d6864a",
   "metadata": {},
   "source": [
    "### 3. Heterogeneous Elements :"
   ]
  },
  {
   "cell_type": "markdown",
   "id": "7615eec4-a1b9-4665-b7d8-7312708e3781",
   "metadata": {},
   "source": [
    "#### A list can contain elements of different data types, including integers, strings, other lists, and even custom objects."
   ]
  },
  {
   "cell_type": "markdown",
   "id": "bb751d3e-9a7c-42ee-b45f-248629491732",
   "metadata": {},
   "source": [
    "##### Example"
   ]
  },
  {
   "cell_type": "code",
   "execution_count": 8,
   "id": "89bcca65-ff57-446e-8f3b-c1edcf294cbf",
   "metadata": {},
   "outputs": [
    {
     "name": "stdout",
     "output_type": "stream",
     "text": [
      "[1, 'Hello', 3.14, [10, 20]]\n"
     ]
    }
   ],
   "source": [
    "mixed_list = [1, \"Hello\", 3.14, [10, 20]] # contain data of different data types\n",
    "print(mixed_list)  # Output: [1, 'Hello', 3.14, [10, 20]]"
   ]
  },
  {
   "cell_type": "markdown",
   "id": "fb7c5aff-0ef3-4600-85d3-5fa6342bdf38",
   "metadata": {},
   "source": [
    "### 4. Dynamic Size :"
   ]
  },
  {
   "cell_type": "markdown",
   "id": "71d0a9fc-e387-4ac1-a408-3b999b89c875",
   "metadata": {},
   "source": [
    "#### Lists can expand or shrink as needed. You can append, insert, or remove elements, and the list adjusts its size accordingly."
   ]
  },
  {
   "cell_type": "markdown",
   "id": "54fd706f-62cd-4a32-997b-3c4e3e0fd724",
   "metadata": {},
   "source": [
    "##### Example : "
   ]
  },
  {
   "cell_type": "code",
   "execution_count": 9,
   "id": "835bf390-f6b3-4f64-bfef-4087374a99de",
   "metadata": {},
   "outputs": [
    {
     "name": "stdout",
     "output_type": "stream",
     "text": [
      "[1, 2, 3]\n"
     ]
    }
   ],
   "source": [
    "my_list = [1, 2]\n",
    "my_list.append(3)   # Adds 3 at the end\n",
    "print(my_list)      # Output: [1, 2, 3]"
   ]
  },
  {
   "cell_type": "markdown",
   "id": "ab10abe5-c1d3-4d7c-b76e-61b9518fc2df",
   "metadata": {},
   "source": [
    "### 5. List Methods :"
   ]
  },
  {
   "cell_type": "markdown",
   "id": "66150046-3dcf-4c6a-bc3e-cd835e8a65fb",
   "metadata": {},
   "source": [
    "#### Lists have several built-in methods for common operations"
   ]
  },
  {
   "cell_type": "markdown",
   "id": "bb446b4a-5990-4699-91c2-9f359fffadae",
   "metadata": {},
   "source": [
    "#### 5.1 append(item) : Adds an item to the end."
   ]
  },
  {
   "cell_type": "code",
   "execution_count": 10,
   "id": "5e5656f8-269e-4570-94ca-3ac4b8041ae1",
   "metadata": {},
   "outputs": [
    {
     "data": {
      "text/plain": [
       "[1, 2, 3, 4]"
      ]
     },
     "execution_count": 10,
     "metadata": {},
     "output_type": "execute_result"
    }
   ],
   "source": [
    "list1 = [1,2,3]\n",
    "list1.append(4)\n",
    "list1"
   ]
  },
  {
   "cell_type": "markdown",
   "id": "447b1ee2-3efc-4c9a-8cbc-591fda059089",
   "metadata": {},
   "source": [
    "#### 5.2 extend(iterable) : Adds all items from an iterable (e.g., another list)."
   ]
  },
  {
   "cell_type": "code",
   "execution_count": 11,
   "id": "1265c1c7-9aa1-4a47-92cb-3e94dc3889b5",
   "metadata": {},
   "outputs": [
    {
     "data": {
      "text/plain": [
       "['a', 'B', 'C', 1, 2, 3]"
      ]
     },
     "execution_count": 11,
     "metadata": {},
     "output_type": "execute_result"
    }
   ],
   "source": [
    "list1 = [1,2,3]\n",
    "list2 = [\"a\",\"B\",\"C\"]\n",
    "list2.extend(list1)\n",
    "list2"
   ]
  },
  {
   "cell_type": "markdown",
   "id": "251d1b66-3a97-4f29-beb0-5165486aec27",
   "metadata": {},
   "source": [
    "#### 5.3 insert(index,item) : Inserts an item at a specific index"
   ]
  },
  {
   "cell_type": "code",
   "execution_count": 12,
   "id": "fda5e476-a5f5-48ab-8ca5-88fbd2a7b969",
   "metadata": {},
   "outputs": [
    {
     "data": {
      "text/plain": [
       "[5, 1, 2, 3]"
      ]
     },
     "execution_count": 12,
     "metadata": {},
     "output_type": "execute_result"
    }
   ],
   "source": [
    "list1 = [1,2,3]\n",
    "list1.insert(0,5)\n",
    "list1"
   ]
  },
  {
   "cell_type": "markdown",
   "id": "3b18a0af-4036-4d28-8c3b-b1c61c767831",
   "metadata": {},
   "source": [
    "#### 5.4 remove(item) : Removes the first occurrence of an item."
   ]
  },
  {
   "cell_type": "code",
   "execution_count": 13,
   "id": "9b20f971-1f59-4c2d-9908-9851152a9185",
   "metadata": {},
   "outputs": [
    {
     "data": {
      "text/plain": [
       "[2, 1, 3]"
      ]
     },
     "execution_count": 13,
     "metadata": {},
     "output_type": "execute_result"
    }
   ],
   "source": [
    "list1 = [1,2,1,3]\n",
    "list1.remove(1)\n",
    "list1"
   ]
  },
  {
   "cell_type": "markdown",
   "id": "7def8d07-46fb-4b37-a915-cd87db797179",
   "metadata": {},
   "source": [
    "#### 5.5 pop(index) : Removes and returns the item at the given index (or last item if no index is provided)."
   ]
  },
  {
   "cell_type": "code",
   "execution_count": 14,
   "id": "24c83894-760e-4999-bcd5-78ce2d618e71",
   "metadata": {},
   "outputs": [
    {
     "data": {
      "text/plain": [
       "3"
      ]
     },
     "execution_count": 14,
     "metadata": {},
     "output_type": "execute_result"
    }
   ],
   "source": [
    "list1 = [1,2,3]\n",
    "list1.pop()"
   ]
  },
  {
   "cell_type": "code",
   "execution_count": 15,
   "id": "137afdbd-6b3c-4293-b8b1-f2ac2482a7e0",
   "metadata": {},
   "outputs": [
    {
     "data": {
      "text/plain": [
       "[1, 2]"
      ]
     },
     "execution_count": 15,
     "metadata": {},
     "output_type": "execute_result"
    }
   ],
   "source": [
    "list1"
   ]
  },
  {
   "cell_type": "code",
   "execution_count": 16,
   "id": "b4ddb46b-5b9c-49a0-808f-dfe226cc724d",
   "metadata": {},
   "outputs": [
    {
     "data": {
      "text/plain": [
       "1"
      ]
     },
     "execution_count": 16,
     "metadata": {},
     "output_type": "execute_result"
    }
   ],
   "source": [
    "list1.pop(0)"
   ]
  },
  {
   "cell_type": "code",
   "execution_count": 17,
   "id": "e4f5ae50-e145-4be6-a979-689a2fb70e25",
   "metadata": {},
   "outputs": [
    {
     "data": {
      "text/plain": [
       "3"
      ]
     },
     "execution_count": 17,
     "metadata": {},
     "output_type": "execute_result"
    }
   ],
   "source": [
    "list1 = [1,2,3,4,5,6]\n",
    "list1.pop(2)"
   ]
  },
  {
   "cell_type": "markdown",
   "id": "b9c8a088-7fd3-4c43-8f70-1e906acaa9f6",
   "metadata": {},
   "source": [
    "#### 5.6 sort() : Sort the list in place."
   ]
  },
  {
   "cell_type": "code",
   "execution_count": 18,
   "id": "1244ad93-6846-46dd-8717-0e999b115902",
   "metadata": {},
   "outputs": [],
   "source": [
    "list1 = ['Arjun', 'Siva', 'Bittu']\n",
    "list1.sort()"
   ]
  },
  {
   "cell_type": "code",
   "execution_count": 19,
   "id": "b1300169-846b-4cd1-8646-dd5b6663792c",
   "metadata": {},
   "outputs": [
    {
     "data": {
      "text/plain": [
       "['Arjun', 'Bittu', 'Siva']"
      ]
     },
     "execution_count": 19,
     "metadata": {},
     "output_type": "execute_result"
    }
   ],
   "source": [
    "list1"
   ]
  },
  {
   "cell_type": "markdown",
   "id": "95dce037-fb81-4746-b808-340d77168aad",
   "metadata": {},
   "source": [
    "#### 5.7 reverse() : everses the order of the list in place."
   ]
  },
  {
   "cell_type": "code",
   "execution_count": 20,
   "id": "512c772a-d95b-4ed7-b9a4-e1c759b630e6",
   "metadata": {},
   "outputs": [
    {
     "data": {
      "text/plain": [
       "[3, 2, 1]"
      ]
     },
     "execution_count": 20,
     "metadata": {},
     "output_type": "execute_result"
    }
   ],
   "source": [
    "list1 = [1,2,3]\n",
    "list1.reverse()\n",
    "list1"
   ]
  },
  {
   "cell_type": "markdown",
   "id": "db7f126f-e9cc-4687-8a8c-09f0083ba30b",
   "metadata": {},
   "source": [
    "### 6. List Comprehension"
   ]
  },
  {
   "cell_type": "markdown",
   "id": "f3a323e9-d68f-4a80-be89-fbc8aac7fc7e",
   "metadata": {},
   "source": [
    "#### Create a list based on some condition or operation."
   ]
  },
  {
   "cell_type": "code",
   "execution_count": 21,
   "id": "059fb23d-cd52-437f-a5b5-b4bedd008aab",
   "metadata": {},
   "outputs": [
    {
     "data": {
      "text/plain": [
       "[1, 4, 9, 16, 25]"
      ]
     },
     "execution_count": 21,
     "metadata": {},
     "output_type": "execute_result"
    }
   ],
   "source": [
    "# Example :\n",
    "\n",
    "list1 = [1,2,3,4,5] \n",
    "\n",
    "#  we want a list of elements 1,4,9,16,25\n",
    "\n",
    "[item * item for item in list1] "
   ]
  },
  {
   "cell_type": "markdown",
   "id": "9796795b-be16-4b5c-b1e2-7ce07507be38",
   "metadata": {},
   "source": [
    "____________"
   ]
  },
  {
   "cell_type": "markdown",
   "id": "9c911b6d-1845-4b1e-9a9d-fe2c487f9142",
   "metadata": {},
   "source": [
    "## Question_3 : Describe how to access, modify, and delete elements in a list with examples."
   ]
  },
  {
   "cell_type": "markdown",
   "id": "cb800a20-d454-4724-908c-b60fdc4f9877",
   "metadata": {},
   "source": [
    "### Solution :"
   ]
  },
  {
   "cell_type": "markdown",
   "id": "53772da6-2d24-4b5b-baef-444f2801cb54",
   "metadata": {},
   "source": [
    "#### We can easily access, modify, and delete elements in a list using various techniques."
   ]
  },
  {
   "cell_type": "markdown",
   "id": "c3518acf-7a9f-4ccd-8078-564f82203c35",
   "metadata": {},
   "source": [
    "### 1. Accessing Elements in a List"
   ]
  },
  {
   "cell_type": "markdown",
   "id": "c56fd87b-cecd-4cb3-95c1-ad6b0ba7c98b",
   "metadata": {},
   "source": [
    "#### 1.1 Accessing through index"
   ]
  },
  {
   "cell_type": "code",
   "execution_count": 22,
   "id": "0c8cefa4-f1c4-4a0d-8d0e-6eb509c30e9e",
   "metadata": {},
   "outputs": [
    {
     "data": {
      "text/plain": [
       "1"
      ]
     },
     "execution_count": 22,
     "metadata": {},
     "output_type": "execute_result"
    }
   ],
   "source": [
    "# Example\n",
    "list1 = [1,2,4,'A']\n",
    "list1[0]"
   ]
  },
  {
   "cell_type": "code",
   "execution_count": 23,
   "id": "0a6158f1-4e40-488b-972d-c524184a0d70",
   "metadata": {},
   "outputs": [
    {
     "data": {
      "text/plain": [
       "'A'"
      ]
     },
     "execution_count": 23,
     "metadata": {},
     "output_type": "execute_result"
    }
   ],
   "source": [
    "# Using reverse indexing method\n",
    "list1[-1] #accessing last element present at the end"
   ]
  },
  {
   "cell_type": "code",
   "execution_count": 24,
   "id": "f320df85-731c-4c6e-ab0a-bb3e3ed2bddf",
   "metadata": {},
   "outputs": [
    {
     "data": {
      "text/plain": [
       "4"
      ]
     },
     "execution_count": 24,
     "metadata": {},
     "output_type": "execute_result"
    }
   ],
   "source": [
    "# Similarly, accessing 2nd last element from end:\n",
    "list1[-2]"
   ]
  },
  {
   "cell_type": "markdown",
   "id": "84385c93-0134-4105-b813-7c6f7bbc334d",
   "metadata": {},
   "source": [
    "#### 1.2 Accessing through slcing"
   ]
  },
  {
   "cell_type": "code",
   "execution_count": 25,
   "id": "db48d95a-f6a6-4565-b203-d1fa0147f356",
   "metadata": {},
   "outputs": [
    {
     "data": {
      "text/plain": [
       "[2, 3]"
      ]
     },
     "execution_count": 25,
     "metadata": {},
     "output_type": "execute_result"
    }
   ],
   "source": [
    "# Example \n",
    "list1 = ['A',2,3,4]\n",
    "list1[1:3] # index 1 (inclusive & index 3 (exclusive & step_size is default to 1"
   ]
  },
  {
   "cell_type": "code",
   "execution_count": 26,
   "id": "fdc9d755-8803-40a4-a22c-2716a6df23db",
   "metadata": {},
   "outputs": [
    {
     "data": {
      "text/plain": [
       "[2, 4]"
      ]
     },
     "execution_count": 26,
     "metadata": {},
     "output_type": "execute_result"
    }
   ],
   "source": [
    "# Example\n",
    "list1[1:4:2]  # index 1 (inclusive & index 4 (exclusive & step_size is 2"
   ]
  },
  {
   "cell_type": "markdown",
   "id": "9c1f2d41-9132-4de6-9025-4febad4b8a53",
   "metadata": {},
   "source": [
    "### 2. Modifying Elements in a List"
   ]
  },
  {
   "cell_type": "markdown",
   "id": "fe3161f1-57bf-492e-912d-a55d18321f96",
   "metadata": {},
   "source": [
    "#### We can modify elements by assigning a new value to a specific index."
   ]
  },
  {
   "cell_type": "code",
   "execution_count": 27,
   "id": "8724d338-28d6-4542-babf-e7d3f6a4b003",
   "metadata": {},
   "outputs": [
    {
     "name": "stdout",
     "output_type": "stream",
     "text": [
      "[10, 25, 30, 40, 'Sudhakar_Pandey']\n"
     ]
    }
   ],
   "source": [
    "my_list = [10, 20, 30, 40, 'Sudhakar_Pandey']\n",
    "\n",
    "# Modifying the second element (index 1)\n",
    "my_list[1] = 25\n",
    "\n",
    "print(my_list)  # [10, 25, 30, 40, 50]"
   ]
  },
  {
   "cell_type": "code",
   "execution_count": 28,
   "id": "87dc36bc-4163-4db2-b84f-9f02be9b5ff4",
   "metadata": {},
   "outputs": [
    {
     "name": "stdout",
     "output_type": "stream",
     "text": [
      "[10, 25, 35, 45, 'Sudhakar_Pandey']\n"
     ]
    }
   ],
   "source": [
    "# Example \n",
    "\n",
    "# Modifying a range of elements (slicing and assigning)\n",
    "my_list[2:4] = [35, 45]\n",
    "\n",
    "print(my_list)  # [10, 25, 35, 45, 50]"
   ]
  },
  {
   "cell_type": "markdown",
   "id": "1b23b745-8d91-4ac9-9ab7-c758430cb1ed",
   "metadata": {},
   "source": [
    "### 3. Deleting Elements in a List"
   ]
  },
  {
   "cell_type": "markdown",
   "id": "e95e9fa5-da3c-48a4-bd65-41c02c2c6450",
   "metadata": {},
   "source": [
    "#### We can delete elements using the del statement, remove(), or pop()."
   ]
  },
  {
   "cell_type": "markdown",
   "id": "59bdd34d-4929-4397-a26a-e3bb9a841a0a",
   "metadata": {},
   "source": [
    "#### 3.1 Deleting element by index"
   ]
  },
  {
   "cell_type": "code",
   "execution_count": 29,
   "id": "0e402393-f322-4952-9d92-691f1088017c",
   "metadata": {},
   "outputs": [
    {
     "name": "stdout",
     "output_type": "stream",
     "text": [
      "[10, 30, 40, 50]\n"
     ]
    }
   ],
   "source": [
    "my_list = [10, 20, 30, 40, 50]\n",
    "\n",
    "# Deleting an element by index\n",
    "\n",
    "del my_list[1]\n",
    "print(my_list)  # [10, 30, 40, 50]"
   ]
  },
  {
   "cell_type": "markdown",
   "id": "a70f829b-a7b7-4de5-bce0-2caf58e70527",
   "metadata": {},
   "source": [
    "#### 3.2 Dleting element by using remove()"
   ]
  },
  {
   "cell_type": "code",
   "execution_count": 30,
   "id": "3fd382ed-da99-4be3-a3d9-108ae01ce4ed",
   "metadata": {},
   "outputs": [
    {
     "data": {
      "text/plain": [
       "[10, 20, 40, 30, 40, 50, 40]"
      ]
     },
     "execution_count": 30,
     "metadata": {},
     "output_type": "execute_result"
    }
   ],
   "source": [
    "# Removing the first occurrence of a specific value\n",
    "mylist = [10, 20, 40, 30, 40, 50, 40]\n",
    "mylist"
   ]
  },
  {
   "cell_type": "code",
   "execution_count": 31,
   "id": "3d9d3eb4-fd7c-4a07-b299-1d58cac0a11a",
   "metadata": {},
   "outputs": [],
   "source": [
    "mylist.remove(40)  # Removing the first occurrence of a 40"
   ]
  },
  {
   "cell_type": "code",
   "execution_count": 32,
   "id": "febb4f29-27ba-4059-a99a-d90eedf50205",
   "metadata": {},
   "outputs": [
    {
     "data": {
      "text/plain": [
       "[10, 20, 30, 40, 50, 40]"
      ]
     },
     "execution_count": 32,
     "metadata": {},
     "output_type": "execute_result"
    }
   ],
   "source": [
    "mylist"
   ]
  },
  {
   "cell_type": "markdown",
   "id": "a77b5123-f0b5-437b-9beb-a1e8aba57cd7",
   "metadata": {},
   "source": [
    "#### 3.3 Deleting element by using pop()"
   ]
  },
  {
   "cell_type": "code",
   "execution_count": 33,
   "id": "c2f29737-150d-4159-b1d5-5e3532ee7a04",
   "metadata": {},
   "outputs": [
    {
     "name": "stdout",
     "output_type": "stream",
     "text": [
      "my original list i.e., mylist is : [10, 20, 30, 40, 50, 40]\n",
      "last_element remooved using pop() function is : 40\n",
      "my new list is : [10, 20, 30, 40, 50]\n"
     ]
    }
   ],
   "source": [
    "# Removing and returning the last element using pop()\n",
    "\n",
    "mylist1 = [12,14,99,'John']\n",
    "print(f\"my original list i.e., mylist is : {mylist}\")\n",
    "last_element = mylist.pop()\n",
    "print(f\"last_element remooved using pop() function is : {last_element}\")  # 50\n",
    "print(f\"my new list is : {mylist}\")  # [10, 30]"
   ]
  },
  {
   "cell_type": "code",
   "execution_count": 34,
   "id": "0fba5c72-0ddb-4982-9013-b91e1d4d0fb5",
   "metadata": {},
   "outputs": [
    {
     "name": "stdout",
     "output_type": "stream",
     "text": [
      "my original list is : [10, 20, 30, 40]\n",
      "removed element is : 20\n",
      "my new list is : [10, 30, 40]\n"
     ]
    }
   ],
   "source": [
    "# Removing and returning an element at a specific index\n",
    "mylist = [10, 20, 30, 40]\n",
    "print(f\"my original list is : {mylist}\")\n",
    "element = mylist.pop(1) # remove element at index 1 (which is 20)\n",
    "print(f\"removed element is : {element}\")  # 20\n",
    "print(f\"my new list is : {mylist}\")  # [10,30,40]"
   ]
  },
  {
   "cell_type": "markdown",
   "id": "ae14f7eb-7f18-4efc-af52-305713ffcc8c",
   "metadata": {},
   "source": [
    "__________________________"
   ]
  },
  {
   "cell_type": "markdown",
   "id": "9da05628-1c32-4376-888b-a368bafb6c88",
   "metadata": {},
   "source": [
    "## Question_4 : Compare and contrast tuples and lists with examples."
   ]
  },
  {
   "cell_type": "markdown",
   "id": "efae5fa3-a9d4-4426-9c99-4b8f0657e80b",
   "metadata": {},
   "source": [
    "### Solution :"
   ]
  },
  {
   "cell_type": "markdown",
   "id": "f330c85e-ea7a-4413-9130-713169856f77",
   "metadata": {},
   "source": [
    "#### Tuples and lists are both sequence data types in Python, but they have some key differences. Below is the comparison of tuples and lists with examples to highlight their similarities and differences"
   ]
  },
  {
   "cell_type": "markdown",
   "id": "bdb95e09-e88c-4e00-a4d7-482e0de525be",
   "metadata": {},
   "source": [
    "### 1. Mutability "
   ]
  },
  {
   "cell_type": "markdown",
   "id": "2b5ca100-08f8-4bea-a7ae-fc1c8f6d7ced",
   "metadata": {},
   "source": [
    "#### - Lists are  Mutable meaning we can change elements after creation."
   ]
  },
  {
   "cell_type": "markdown",
   "id": "7ca1ff1d-52f9-4a8c-a47f-55eac9064fa2",
   "metadata": {},
   "source": [
    "#### - Tuples are  Immutable meaning we cannot change elements after creation."
   ]
  },
  {
   "cell_type": "code",
   "execution_count": 35,
   "id": "276e12e3-d95c-48a5-a37b-6700a643d779",
   "metadata": {},
   "outputs": [
    {
     "name": "stdout",
     "output_type": "stream",
     "text": [
      "[10, 2, 3]\n"
     ]
    }
   ],
   "source": [
    "# List (Mutable)\n",
    "\n",
    "my_list = [1, 2, 3]\n",
    "my_list[0] = 10  # Modifying the first element\n",
    "print(my_list)  # Output: [10, 2, 3]"
   ]
  },
  {
   "cell_type": "code",
   "execution_count": 36,
   "id": "da519667-aae7-41b6-bfd7-890babf4a82a",
   "metadata": {},
   "outputs": [
    {
     "ename": "TypeError",
     "evalue": "'tuple' object does not support item assignment",
     "output_type": "error",
     "traceback": [
      "\u001b[0;31m---------------------------------------------------------------------------\u001b[0m",
      "\u001b[0;31mTypeError\u001b[0m                                 Traceback (most recent call last)",
      "Cell \u001b[0;32mIn[36], line 4\u001b[0m\n\u001b[1;32m      1\u001b[0m \u001b[38;5;66;03m# Tuple (Immutable)\u001b[39;00m\n\u001b[1;32m      3\u001b[0m my_tuple \u001b[38;5;241m=\u001b[39m (\u001b[38;5;241m1\u001b[39m, \u001b[38;5;241m2\u001b[39m, \u001b[38;5;241m3\u001b[39m)\n\u001b[0;32m----> 4\u001b[0m \u001b[43mmy_tuple\u001b[49m\u001b[43m[\u001b[49m\u001b[38;5;241;43m0\u001b[39;49m\u001b[43m]\u001b[49m \u001b[38;5;241m=\u001b[39m \u001b[38;5;241m10\u001b[39m  \u001b[38;5;66;03m# This will raise an error because tuples cannot be modified\u001b[39;00m\n",
      "\u001b[0;31mTypeError\u001b[0m: 'tuple' object does not support item assignment"
     ]
    }
   ],
   "source": [
    "# Tuple (Immutable)\n",
    "\n",
    "my_tuple = (1, 2, 3)\n",
    "my_tuple[0] = 10  # This will raise an error because tuples cannot be modified"
   ]
  },
  {
   "cell_type": "markdown",
   "id": "d5971c23-2264-4218-8732-40f666e02d68",
   "metadata": {},
   "source": [
    "### 2. Syntax"
   ]
  },
  {
   "cell_type": "markdown",
   "id": "867a3cb9-d6fa-4f32-8ec2-65b3ddb634f4",
   "metadata": {},
   "source": [
    "#### - Lists : Defined with square brackets []"
   ]
  },
  {
   "cell_type": "code",
   "execution_count": 37,
   "id": "4fb37ea6-c6f6-43b8-b4ef-f49649c13f7d",
   "metadata": {},
   "outputs": [
    {
     "data": {
      "text/plain": [
       "[12, 45, 'John']"
      ]
     },
     "execution_count": 37,
     "metadata": {},
     "output_type": "execute_result"
    }
   ],
   "source": [
    "# Example \n",
    "my_list = [12, 45, 'John']\n",
    "my_list"
   ]
  },
  {
   "cell_type": "markdown",
   "id": "00bdd31d-b9ce-4d10-8205-2106a408a039",
   "metadata": {},
   "source": [
    "#### - Tuple : Defined with parentheses ()"
   ]
  },
  {
   "cell_type": "code",
   "execution_count": 38,
   "id": "1bae1140-3ab7-4970-a3de-2c5d95300533",
   "metadata": {},
   "outputs": [
    {
     "data": {
      "text/plain": [
       "(12, 45, 'John')"
      ]
     },
     "execution_count": 38,
     "metadata": {},
     "output_type": "execute_result"
    }
   ],
   "source": [
    "# Example\n",
    "my_tuple = (12, 45, 'John')\n",
    "my_tuple"
   ]
  },
  {
   "cell_type": "markdown",
   "id": "c0dbc3de-ef9e-4265-882b-c3be89fb994a",
   "metadata": {},
   "source": [
    "### 3. Performance"
   ]
  },
  {
   "cell_type": "markdown",
   "id": "e644b307-ce91-44b2-ab30-3be24a8e2dd4",
   "metadata": {},
   "source": [
    "#### - Lists : Slower for operations like iteration, since lists are mutable and require more memory."
   ]
  },
  {
   "cell_type": "markdown",
   "id": "46513474-9fa1-433d-b7d5-921246650ea5",
   "metadata": {},
   "source": [
    "#### - Tuples : Faster and use less memory because they are immutable."
   ]
  },
  {
   "cell_type": "code",
   "execution_count": 39,
   "id": "e55f2367-05fa-4d9d-8fdf-aa5fd08f9665",
   "metadata": {},
   "outputs": [
    {
     "name": "stdout",
     "output_type": "stream",
     "text": [
      "Memory size of the list (my_list) : 88\n",
      "Memory size of the tuple (my)tuple) : 64\n"
     ]
    }
   ],
   "source": [
    "# Example\n",
    "\n",
    "import sys\n",
    "\n",
    "my_list = [10, 20, 30]\n",
    "my_tuple = (10, 20, 30)\n",
    "\n",
    "print(f\"Memory size of the list (my_list) : {sys.getsizeof(my_list)}\")   # Output: Memory size of the list\n",
    "print(f\"Memory size of the tuple (my)tuple) : {sys.getsizeof(my_tuple)}\")  # Output: Memory size of the tuple (generally smaller)"
   ]
  },
  {
   "cell_type": "markdown",
   "id": "257d33f9-4e50-4b41-a7f9-f890490fcd8a",
   "metadata": {},
   "source": [
    "### 4. Methods Used In Lists & Tuples"
   ]
  },
  {
   "cell_type": "markdown",
   "id": "e6037de4-2212-4e4a-b3b6-06dadff5e921",
   "metadata": {},
   "source": [
    "#### - Lists: Have more methods because they are mutable, such as append(), remove(), pop(), sort(), and reverse()."
   ]
  },
  {
   "cell_type": "code",
   "execution_count": 40,
   "id": "ef877beb-d900-4008-87b4-5e53de3a564a",
   "metadata": {},
   "outputs": [
    {
     "data": {
      "text/plain": [
       "[10, 20, 30, 40, 50]"
      ]
     },
     "execution_count": 40,
     "metadata": {},
     "output_type": "execute_result"
    }
   ],
   "source": [
    "# Example \n",
    "\n",
    "my_list = [10, 20, 30, 40]\n",
    "\n",
    "my_list.append(50) # adding element 50 at the end\n",
    "my_list"
   ]
  },
  {
   "cell_type": "code",
   "execution_count": 41,
   "id": "909ac5e8-9703-408d-b995-062b6f3c9c92",
   "metadata": {},
   "outputs": [
    {
     "data": {
      "text/plain": [
       "50"
      ]
     },
     "execution_count": 41,
     "metadata": {},
     "output_type": "execute_result"
    }
   ],
   "source": [
    "my_list.pop() # removing the last elemnent"
   ]
  },
  {
   "cell_type": "code",
   "execution_count": 42,
   "id": "b3521d8f-4a42-496f-b03c-3668d18e7837",
   "metadata": {},
   "outputs": [
    {
     "name": "stdout",
     "output_type": "stream",
     "text": [
      "After sorting :[22, 33, 90, 100]\n"
     ]
    }
   ],
   "source": [
    "my_list = [100, 90, 33, 22]\n",
    "my_list.sort() # ascending by default\n",
    "print(f\"After sorting :{my_list}\")"
   ]
  },
  {
   "cell_type": "code",
   "execution_count": 43,
   "id": "67af4fda-f233-406c-a2ee-7e092932fa39",
   "metadata": {},
   "outputs": [
    {
     "data": {
      "text/plain": [
       "[30, 20, 10]"
      ]
     },
     "execution_count": 43,
     "metadata": {},
     "output_type": "execute_result"
    }
   ],
   "source": [
    "my_list = [10, 20, 30]\n",
    "my_list.reverse()\n",
    "my_list"
   ]
  },
  {
   "cell_type": "markdown",
   "id": "184de0ca-1623-4f4f-91aa-2ef121a5254e",
   "metadata": {},
   "source": [
    "#### - Tuples: Have fewer methods; mainly count() and index()."
   ]
  },
  {
   "cell_type": "code",
   "execution_count": 44,
   "id": "d295cc3d-b208-405e-b252-6745055fb9ff",
   "metadata": {},
   "outputs": [
    {
     "data": {
      "text/plain": [
       "2"
      ]
     },
     "execution_count": 44,
     "metadata": {},
     "output_type": "execute_result"
    }
   ],
   "source": [
    "# Example\n",
    "\n",
    "my_tuple = (10, 30, 5, 10)\n",
    "\n",
    "my_tuple.count(10) # count the occurance of element 10"
   ]
  },
  {
   "cell_type": "code",
   "execution_count": 45,
   "id": "bf69971e-827a-4fde-a42f-7136e85dd291",
   "metadata": {},
   "outputs": [
    {
     "data": {
      "text/plain": [
       "0"
      ]
     },
     "execution_count": 45,
     "metadata": {},
     "output_type": "execute_result"
    }
   ],
   "source": [
    "my_tuple.index(10) # return the first occurance index of the element"
   ]
  },
  {
   "cell_type": "markdown",
   "id": "aae01169-fa1c-4f3d-9203-1056b8ddc1cb",
   "metadata": {},
   "source": [
    "### 5. Use Cases"
   ]
  },
  {
   "cell_type": "markdown",
   "id": "49a44e25-447b-447d-81dd-f0c62cc00e4c",
   "metadata": {},
   "source": [
    "#### - Lists: Used when we need a sequence of items that can change, like a collection of items that we may want to modify, append, or remove."
   ]
  },
  {
   "cell_type": "code",
   "execution_count": 46,
   "id": "d9d06ce1-3005-40fd-ac68-7e31ec990f45",
   "metadata": {},
   "outputs": [
    {
     "name": "stdout",
     "output_type": "stream",
     "text": [
      "['apple', 'banana', 'mango', 'strawberry']\n"
     ]
    }
   ],
   "source": [
    "# List: Mutable collection of items (ex: shopping list)\n",
    "fruit_shopping_list = ['apple', 'banana', 'mango']\n",
    "fruit_shopping_list.append('strawberry')  # Can add more items to the list\n",
    "print(fruit_shopping_list)  # Output: ['apple', 'banana', 'cherry', 'date']"
   ]
  },
  {
   "cell_type": "markdown",
   "id": "334c6c14-118e-473a-922f-966f6ea23b7a",
   "metadata": {},
   "source": [
    "#### - Tuples: Used when we need a fixed collection of items, such as coordinates, or when we want to ensure the data cannot be changed."
   ]
  },
  {
   "cell_type": "code",
   "execution_count": 47,
   "id": "83e47e72-2953-4b42-8541-a62feab6c2dd",
   "metadata": {},
   "outputs": [
    {
     "data": {
      "text/plain": [
       "(10.0, 20.0)"
      ]
     },
     "execution_count": 47,
     "metadata": {},
     "output_type": "execute_result"
    }
   ],
   "source": [
    "# Tuple: Immutable collection (ex: coordinates)\n",
    "coordinates = (10.0, 20.0)\n",
    "# coordinates[0] = 15.0  # This would raise an error as tuples are immutable\n",
    "coordinates"
   ]
  },
  {
   "cell_type": "markdown",
   "id": "56238951-787a-473b-8437-06bc49694b1f",
   "metadata": {},
   "source": [
    "#### 6. Nested Structures"
   ]
  },
  {
   "cell_type": "markdown",
   "id": "0b66a6e4-e14e-4376-824d-21832c3d1b75",
   "metadata": {},
   "source": [
    "#### - Both lists and tuples can be nested within each other."
   ]
  },
  {
   "cell_type": "code",
   "execution_count": 48,
   "id": "4d67d7e9-1265-4404-96ee-49c46355dfb0",
   "metadata": {},
   "outputs": [
    {
     "data": {
      "text/plain": [
       "[[1, 2], [6, 4]]"
      ]
     },
     "execution_count": 48,
     "metadata": {},
     "output_type": "execute_result"
    }
   ],
   "source": [
    "# Nested list\n",
    "nested_list = [[1, 2], [6, 4]]\n",
    "nested_list"
   ]
  },
  {
   "cell_type": "code",
   "execution_count": 49,
   "id": "60a178b8-9204-49f0-9025-c2a2649c7302",
   "metadata": {},
   "outputs": [
    {
     "data": {
      "text/plain": [
       "((1, 2), (6, 4))"
      ]
     },
     "execution_count": 49,
     "metadata": {},
     "output_type": "execute_result"
    }
   ],
   "source": [
    "# Nested tuple\n",
    "nested_tuple = ((1, 2), (6, 4))\n",
    "nested_tuple"
   ]
  },
  {
   "cell_type": "code",
   "execution_count": 50,
   "id": "fef5cca0-5f60-4299-9786-4ca54b52bf91",
   "metadata": {},
   "outputs": [
    {
     "data": {
      "text/plain": [
       "([1, 2], (6, 4))"
      ]
     },
     "execution_count": 50,
     "metadata": {},
     "output_type": "execute_result"
    }
   ],
   "source": [
    "# Mix of list and tuple\n",
    "mixed = ([1, 2], (6, 4))\n",
    "mixed"
   ]
  },
  {
   "cell_type": "markdown",
   "id": "cf0a38de-3e27-4fa9-bee4-5ef4b7b7710f",
   "metadata": {},
   "source": [
    "_____________________________"
   ]
  },
  {
   "cell_type": "markdown",
   "id": "9ac68637-d7cf-4c42-8555-a92cf1006c33",
   "metadata": {},
   "source": [
    "## Question_5 :  Describe the key features of sets and provide examples of their use."
   ]
  },
  {
   "cell_type": "markdown",
   "id": "92a7c36b-5d7d-49ae-9cdf-6dc8856274e1",
   "metadata": {},
   "source": [
    "### Solution :"
   ]
  },
  {
   "cell_type": "markdown",
   "id": "937373b5-624e-4a19-99b5-26131ef20944",
   "metadata": {},
   "source": [
    "#### Set is an unordered collection of unique elements."
   ]
  },
  {
   "cell_type": "markdown",
   "id": "f596ab41-0471-417f-97d1-476d1eb5a858",
   "metadata": {},
   "source": [
    "#### Syntax : {} used to define set in python"
   ]
  },
  {
   "cell_type": "code",
   "execution_count": 51,
   "id": "0ae10aeb-fd47-4f5e-af90-e7eaa36fac1b",
   "metadata": {},
   "outputs": [
    {
     "data": {
      "text/plain": [
       "{1, 2, 3}"
      ]
     },
     "execution_count": 51,
     "metadata": {},
     "output_type": "execute_result"
    }
   ],
   "source": [
    "# Example :\n",
    "\n",
    "set1 = {1,2,3}\n",
    "set1"
   ]
  },
  {
   "cell_type": "markdown",
   "id": "5c068586-c8b4-43d8-8bec-6a5b7e96d793",
   "metadata": {},
   "source": [
    "#### Below mentioned are the key features of sets, along with examples :"
   ]
  },
  {
   "cell_type": "markdown",
   "id": "d931d140-adc3-4b28-8347-bb07dbeb09a1",
   "metadata": {},
   "source": [
    "### 1. Unordered and Unindxed"
   ]
  },
  {
   "cell_type": "markdown",
   "id": "28f8eb2a-e9b9-4708-89cc-aab785c6cb2f",
   "metadata": {},
   "source": [
    "#### Sets do not maintain the order of elements, and they cannot be accessed using an index."
   ]
  },
  {
   "cell_type": "markdown",
   "id": "13cc8074-9cb7-4d48-bce5-a4e9d27ab7a5",
   "metadata": {},
   "source": [
    "#### The elements may appear in a different order each time we print the set."
   ]
  },
  {
   "cell_type": "code",
   "execution_count": 52,
   "id": "a83f0f17-78a5-4e78-ab8a-574cda0ed90e",
   "metadata": {},
   "outputs": [
    {
     "name": "stdout",
     "output_type": "stream",
     "text": [
      "{1, 2, 3, 4, 5}\n"
     ]
    }
   ],
   "source": [
    "# Example\n",
    "\n",
    "my_set = {3, 1, 4, 2, 5}\n",
    "print(my_set) # we cannot tell the sequence of output"
   ]
  },
  {
   "cell_type": "markdown",
   "id": "52cad072-9022-4714-b73d-df16f3336396",
   "metadata": {},
   "source": [
    "### 2. Unique Elements"
   ]
  },
  {
   "cell_type": "markdown",
   "id": "0897ae4b-5285-4ab6-a372-47f600d08e0c",
   "metadata": {},
   "source": [
    "#### Sets automatically remove duplicate elements."
   ]
  },
  {
   "cell_type": "code",
   "execution_count": 53,
   "id": "d82efffe-2a1a-49a1-bdde-f897001158f1",
   "metadata": {},
   "outputs": [
    {
     "name": "stdout",
     "output_type": "stream",
     "text": [
      "{1, 2, 3, 4}\n"
     ]
    }
   ],
   "source": [
    "# Example\n",
    "\n",
    "my_set = {1, 2, 2, 3, 4, 4}\n",
    "print(my_set)  # Output: {1, 2, 3, 4}"
   ]
  },
  {
   "cell_type": "markdown",
   "id": "abb1d5a0-7b69-4fe9-982d-930c64933835",
   "metadata": {},
   "source": [
    "### 3. Mutable In Nature"
   ]
  },
  {
   "cell_type": "markdown",
   "id": "4a3f7dc2-20ab-41dd-8537-f5dc22527d8f",
   "metadata": {},
   "source": [
    "#### Although sets themselves are mutable (you can add or remove elements), the elements within a set must be immutable (e.g., integers, strings, or tuples)."
   ]
  },
  {
   "cell_type": "code",
   "execution_count": 54,
   "id": "bb50f06f-94d7-4e06-9df1-f1004bc65943",
   "metadata": {},
   "outputs": [
    {
     "name": "stdout",
     "output_type": "stream",
     "text": [
      "{1, 2, 3, 4, 'Hello'}\n"
     ]
    }
   ],
   "source": [
    "# Example :\n",
    "\n",
    "my_set = {1, 2, 3, 'Hello'}\n",
    "my_set.add(4)  # Add an element\n",
    "print(my_set)  # Output: {1, 2, 3, 4}"
   ]
  },
  {
   "cell_type": "code",
   "execution_count": 55,
   "id": "af83a947-595a-40a4-bac8-4ad108de8ee5",
   "metadata": {},
   "outputs": [
    {
     "name": "stdout",
     "output_type": "stream",
     "text": [
      "{1, 3, 4, 'Hello'}\n"
     ]
    }
   ],
   "source": [
    "my_set.remove(2)  # Remove an element\n",
    "print(my_set)  # Output: {1, 3, 4}"
   ]
  },
  {
   "cell_type": "markdown",
   "id": "e3fc2cf5-2e8a-4ed4-843b-190a06e815d5",
   "metadata": {},
   "source": [
    "### 4. Set Operations"
   ]
  },
  {
   "cell_type": "markdown",
   "id": "d3f1c349-61e7-4f1d-b189-deabe66ef611",
   "metadata": {},
   "source": [
    "#### Sets provide mathematical set operations like union, intersection, difference, and symmetric difference."
   ]
  },
  {
   "cell_type": "code",
   "execution_count": 56,
   "id": "09a1eaeb-ff1e-4d82-8200-c8a11d9942b4",
   "metadata": {},
   "outputs": [
    {
     "name": "stdout",
     "output_type": "stream",
     "text": [
      "Union of set1 and set2 is : {1, 2, 3, 4, 5}\n",
      "Intersection of set1 and set2 is : {3}\n",
      "Difference of set1 - set2 is : {1, 2}\n",
      "Symmetrical Difference of set1 and set2 is : {1, 2, 4, 5}\n"
     ]
    }
   ],
   "source": [
    "set1 = {1, 2, 3}\n",
    "set2 = {3, 4, 5}\n",
    "\n",
    "# Union (elements in either set)\n",
    "print(f\"Union of set1 and set2 is : {set1 | set2}\")  # Output: {1, 2, 3, 4, 5}\n",
    "\n",
    "# Intersection (elements in both sets)\n",
    "print(f\"Intersection of set1 and set2 is : {set1 & set2}\")  # Output: {3}\n",
    "\n",
    "# Difference (elements in set_a but not in set_b)\n",
    "print(f\"Difference of set1 - set2 is : {set1 - set2}\")  # Output: {1, 2}\n",
    "\n",
    "# Symmetric Difference (elements in either set, but not both)\n",
    "print(f\"Symmetrical Difference of set1 and set2 is : {set1 ^ set2}\")  # Output: {1, 2, 4, 5}"
   ]
  },
  {
   "cell_type": "markdown",
   "id": "a7bbf0fb-bc5b-4645-9327-d024fa5d65db",
   "metadata": {},
   "source": [
    "### 5. Set Methods"
   ]
  },
  {
   "cell_type": "markdown",
   "id": "23da4c0b-9f07-4ea1-b276-0647d4ae973c",
   "metadata": {},
   "source": [
    "#### Sets have built-in methods for performing various operations:"
   ]
  },
  {
   "cell_type": "markdown",
   "id": "2f44fd76-612c-4dd3-901d-09910db11f95",
   "metadata": {},
   "source": [
    "#### add(): Adds an element to the set.\n",
    "#### remove(): Removes a specified element (raises an error if the element doesn't exist).\n",
    "#### discard(): Removes an element without raising an error if the element doesn't exist.\n",
    "#### pop(): Removes and returns an arbitrary element.\n",
    "#### clear(): Removes all elements from the set."
   ]
  },
  {
   "cell_type": "code",
   "execution_count": 57,
   "id": "faebd07a-0aae-4b76-96b9-2e22da434dd6",
   "metadata": {},
   "outputs": [
    {
     "name": "stdout",
     "output_type": "stream",
     "text": [
      "{1, 2, 3, 4, 5, 46}\n",
      "{1, 3, 4, 5, 46}\n",
      "{3, 4, 5, 46}\n",
      "{4, 5, 46}\n",
      "set()\n"
     ]
    }
   ],
   "source": [
    "# Example :\n",
    "\n",
    "my_set = {1, 2, 3, 4, 5}\n",
    "\n",
    "my_set.add(46)  # Add 4 to the set\n",
    "print(my_set)  # Output: {1, 2, 3, 4, 5, 46}\n",
    "\n",
    "my_set.discard(2)  # Removes 2, doesn't raise an error if 2 is not in the set\n",
    "print(my_set)  # Output: {1, 3, 4, 5, 46}\n",
    "\n",
    "my_set.remove(1)  # Removes 1\n",
    "print(my_set) # Output: {3, 4, 5, 46}\n",
    "\n",
    "my_set.pop() # Removes last element (46)\n",
    "print(my_set) # Output: {3, 4, 5}\n",
    "\n",
    "my_set.clear()  # Removes all elements from the set\n",
    "print(my_set)  # Output: set() (an empty set)"
   ]
  },
  {
   "cell_type": "markdown",
   "id": "ffe04bdc-b509-4718-9a52-9b9002a89400",
   "metadata": {},
   "source": [
    "### 6. Immutability of Elements"
   ]
  },
  {
   "cell_type": "markdown",
   "id": "5817c9de-6635-43b5-96a3-c9625aa0d221",
   "metadata": {},
   "source": [
    "#### While sets are mutable, their elements must be immutable. For instance, have cannot have lists as elements of a set, but we can have tuples."
   ]
  },
  {
   "cell_type": "code",
   "execution_count": 58,
   "id": "abff4387-7169-47ed-94cc-1ae1b4c47473",
   "metadata": {},
   "outputs": [
    {
     "name": "stdout",
     "output_type": "stream",
     "text": [
      "{(1, 2), (3, 4)}\n"
     ]
    }
   ],
   "source": [
    "# Example\n",
    "\n",
    "my_set = {(1, 2), (3, 4)} # set comtaining tuples\n",
    "print(my_set)  # Output: {(1, 2), (3, 4)}"
   ]
  },
  {
   "cell_type": "code",
   "execution_count": 59,
   "id": "823f18f3-e90b-475d-b0b2-b37699b25436",
   "metadata": {},
   "outputs": [
    {
     "ename": "TypeError",
     "evalue": "unhashable type: 'list'",
     "output_type": "error",
     "traceback": [
      "\u001b[0;31m---------------------------------------------------------------------------\u001b[0m",
      "\u001b[0;31mTypeError\u001b[0m                                 Traceback (most recent call last)",
      "Cell \u001b[0;32mIn[59], line 3\u001b[0m\n\u001b[1;32m      1\u001b[0m \u001b[38;5;66;03m# set containing list : gives error as list is mutable\u001b[39;00m\n\u001b[0;32m----> 3\u001b[0m my_set \u001b[38;5;241m=\u001b[39m {[\u001b[38;5;241m1\u001b[39m, \u001b[38;5;241m2\u001b[39m], [\u001b[38;5;241m3\u001b[39m, \u001b[38;5;241m4\u001b[39m]}  \u001b[38;5;66;03m# This would raise an error because lists are mutable and cannot be in a set\u001b[39;00m\n",
      "\u001b[0;31mTypeError\u001b[0m: unhashable type: 'list'"
     ]
    }
   ],
   "source": [
    "# set containing list : gives error as list is mutable\n",
    "\n",
    "my_set = {[1, 2], [3, 4]}  # This would raise an error because lists are mutable and cannot be in a set"
   ]
  },
  {
   "cell_type": "markdown",
   "id": "92ce3734-3d2a-477d-87e9-0b89677cda7f",
   "metadata": {},
   "source": [
    "### 7. Set Comprehension"
   ]
  },
  {
   "cell_type": "markdown",
   "id": "0823f754-25a4-4243-ae9d-b306a96bf1e2",
   "metadata": {},
   "source": [
    "#### Similar to list comprehensions, Python allows set comprehensions to create a set based on some condition or operation."
   ]
  },
  {
   "cell_type": "code",
   "execution_count": 60,
   "id": "64c8446d-102e-426d-8ead-36dd9515f724",
   "metadata": {},
   "outputs": [
    {
     "name": "stdout",
     "output_type": "stream",
     "text": [
      "{0, 1, 4, 9, 16, 25}\n"
     ]
    }
   ],
   "source": [
    "squares = {x ** 2 for x in range(6)}\n",
    "print(squares)  # Output: {0, 1, 4, 9, 16, 25}"
   ]
  },
  {
   "cell_type": "markdown",
   "id": "be2b6701-887b-4862-82c5-2a9d8232dcbe",
   "metadata": {},
   "source": [
    "### 8. Frozen Sets"
   ]
  },
  {
   "cell_type": "markdown",
   "id": "15ea0668-c0a8-4985-83ad-65bf604dae63",
   "metadata": {},
   "source": [
    "#### If we need an immutable version of a set, we can use a frozenset. Once created, it cannot be modified (no add, remove, etc.)."
   ]
  },
  {
   "cell_type": "code",
   "execution_count": 61,
   "id": "33d7a008-1b4a-45ea-a41a-053f3989f736",
   "metadata": {},
   "outputs": [
    {
     "name": "stdout",
     "output_type": "stream",
     "text": [
      "frozenset({1, 2, 3, 4})\n"
     ]
    }
   ],
   "source": [
    "# Example :\n",
    "\n",
    "my_frozen_set = frozenset([1, 2, 3, 4])\n",
    "# my_frozen_set.add(5)  # This would raise an error because frozenset is immutable\n",
    "print(my_frozen_set)  # Output: frozenset({1, 2, 3, 4})"
   ]
  },
  {
   "cell_type": "markdown",
   "id": "0b889053-9cbe-43de-aa81-06022929479b",
   "metadata": {},
   "source": [
    "### 9. Use Cases of Sets"
   ]
  },
  {
   "cell_type": "markdown",
   "id": "90b4bab7-0c79-4c4f-abe4-a6223c555bac",
   "metadata": {},
   "source": [
    "#### - Removing duplicates from a collection.\n",
    "#### - Checking for membership in a collection (using in keyword).\n",
    "#### - Performing set operations (e.g., finding common or unique elements across collections)."
   ]
  },
  {
   "cell_type": "markdown",
   "id": "321ce025-5955-4f9f-a4e4-904a0c7de9b3",
   "metadata": {},
   "source": [
    "________________________________"
   ]
  },
  {
   "cell_type": "markdown",
   "id": "9e0c835d-cbb4-4cdf-845c-4b7ab3604f0a",
   "metadata": {},
   "source": [
    "## Question_6 : Discuss the use cases of tuples and sets in Python programming."
   ]
  },
  {
   "cell_type": "markdown",
   "id": "41713f41-fb15-43b8-b8a2-a8fa69748e74",
   "metadata": {},
   "source": [
    "### Solutin :"
   ]
  },
  {
   "cell_type": "markdown",
   "id": "6dd166f2-a619-42e3-86ed-a769e7c03a95",
   "metadata": {},
   "source": [
    "#### Tuples and sets in Python are both useful for different scenarios based on their characteristics."
   ]
  },
  {
   "cell_type": "markdown",
   "id": "c67ef98b-580e-47ea-9ce7-143827f1655e",
   "metadata": {},
   "source": [
    "### 1. Use Cases of Tuples"
   ]
  },
  {
   "cell_type": "markdown",
   "id": "af4dcfdc-1833-42bd-82fc-1dbe146c5df6",
   "metadata": {},
   "source": [
    "### 1.1 Fixed Data Structures"
   ]
  },
  {
   "cell_type": "markdown",
   "id": "d52aa890-d33f-435d-bb14-89d0a96d3bd9",
   "metadata": {},
   "source": [
    "#### Tuples are often used when we want to create a collection of items that should not change throughout the program (i.e., immutable data)."
   ]
  },
  {
   "cell_type": "markdown",
   "id": "3ef4dacd-5382-4e9f-9a02-b835c3789efc",
   "metadata": {},
   "source": [
    "#### Use Case: For storing constant values such as coordinates, RGB color values, or birthday of family members."
   ]
  },
  {
   "cell_type": "code",
   "execution_count": 62,
   "id": "97ebe792-51b2-4a84-ba67-c5a7441bd2b2",
   "metadata": {},
   "outputs": [
    {
     "name": "stdout",
     "output_type": "stream",
     "text": [
      "(10.0, 20.0)\n",
      "(255, 0, 0)\n",
      "(\"19 Jan'1996\", \"21 Feb'1986\")\n"
     ]
    }
   ],
   "source": [
    "# Storing a fixed coordinate\n",
    "coordinates = (10.0, 20.0)\n",
    "print(coordinates)\n",
    "\n",
    "# RGB color values for red\n",
    "red = (255, 0, 0)\n",
    "print(red)\n",
    "\n",
    "# Storing months of the year\n",
    "birthday_dates = (\"19 Jan'1996\", \"21 Feb'1986\")\n",
    "print(birthday_dates)"
   ]
  },
  {
   "cell_type": "markdown",
   "id": "14e255d7-5a1c-4175-a777-b931b8b35789",
   "metadata": {},
   "source": [
    "#### 1.2 Return Multiple Values from a Function"
   ]
  },
  {
   "cell_type": "markdown",
   "id": "5c3de241-2825-4c93-9f52-9c033725d603",
   "metadata": {},
   "source": [
    "#### Functions can return multiple values as a tuple, making it a convenient way to return related pieces of information."
   ]
  },
  {
   "cell_type": "markdown",
   "id": "60c090e2-6c34-413d-b542-ec10b0bb8048",
   "metadata": {},
   "source": [
    "#### Use Case: Returning multiple results from a function (e.g., coordinates or statistics like average and sum)."
   ]
  },
  {
   "cell_type": "code",
   "execution_count": 63,
   "id": "9347ff9f-0397-4b89-bbfb-d802e8b19539",
   "metadata": {},
   "outputs": [
    {
     "name": "stdout",
     "output_type": "stream",
     "text": [
      "10.0 20.0\n"
     ]
    }
   ],
   "source": [
    "def get_coordinates():\n",
    "    return (10.0, 20.0)  # Returning multiple values as a tuple\n",
    "\n",
    "x, y = get_coordinates()\n",
    "print(x, y)  # Output: 10.0 20.0"
   ]
  },
  {
   "cell_type": "markdown",
   "id": "1e26dce0-7064-4316-97b0-d8370ac9dfe8",
   "metadata": {},
   "source": [
    "### 1.4 Dictionary Keys"
   ]
  },
  {
   "cell_type": "markdown",
   "id": "f4db868e-7a0c-4d1f-856d-2b70443b62ec",
   "metadata": {},
   "source": [
    "#### Tuples, being immutable, can be used as keys in dictionaries (whereas lists cannot)."
   ]
  },
  {
   "cell_type": "markdown",
   "id": "e7a32044-3716-4b97-a0e0-1881a772516a",
   "metadata": {},
   "source": [
    "#### Use Case: Using compound keys for dictionaries, such as coordinates"
   ]
  },
  {
   "cell_type": "code",
   "execution_count": 64,
   "id": "bcec9caa-8c76-4cb1-9a2d-d082dc035289",
   "metadata": {},
   "outputs": [
    {
     "name": "stdout",
     "output_type": "stream",
     "text": [
      "Los Angeles\n"
     ]
    }
   ],
   "source": [
    "locations = {\n",
    "    (3, 5): \"Los Angeles\",\n",
    "    (7, -9): \"New York\"\n",
    "}\n",
    "\n",
    "print(locations[(3, 5)])  # Output: \"Los Angeles\""
   ]
  },
  {
   "cell_type": "markdown",
   "id": "2a56b147-dfa6-4edf-9e3d-63c1e2649ee2",
   "metadata": {},
   "source": [
    "### 1.5 Packing and Unpacking"
   ]
  },
  {
   "cell_type": "markdown",
   "id": "f27817c3-824f-4692-bca7-b8bbba761fcc",
   "metadata": {},
   "source": [
    "#### Tuples are used for packing multiple values into a single variable and unpacking them easily."
   ]
  },
  {
   "cell_type": "markdown",
   "id": "506e8732-8a3d-4d98-94ad-1c7456c3cda5",
   "metadata": {},
   "source": [
    "#### Use Case: Use tuple unpacking to handle multiple returned values or iterate over collections that contain multiple elements per entry."
   ]
  },
  {
   "cell_type": "code",
   "execution_count": 65,
   "id": "cf925831-55f4-4959-98b8-3921fba1620e",
   "metadata": {},
   "outputs": [
    {
     "name": "stdout",
     "output_type": "stream",
     "text": [
      "Sudhakar Pandey 26 Engineer\n"
     ]
    }
   ],
   "source": [
    "# Packing values\n",
    "person = (\"Sudhakar Pandey\",  26,  \"Engineer\")\n",
    "\n",
    "# Unpacking values\n",
    "name, age, profession = person\n",
    "print(name, age, profession)  # Output: John 25 Engineer"
   ]
  },
  {
   "cell_type": "markdown",
   "id": "16da85d3-1725-45de-a128-6ed6d204c0c4",
   "metadata": {},
   "source": [
    "### 2. Use Cases of Sets"
   ]
  },
  {
   "cell_type": "markdown",
   "id": "a15c3c8f-4e00-4085-972b-5529368182cd",
   "metadata": {},
   "source": [
    "### 2.1 Removing Duplicates from a Collection"
   ]
  },
  {
   "cell_type": "markdown",
   "id": "fee399ac-5f5a-4f4f-acee-427e3ce08335",
   "metadata": {},
   "source": [
    "#### Sets automatically filter out duplicates, making them ideal for deduplicating data."
   ]
  },
  {
   "cell_type": "markdown",
   "id": "277bf4c1-ef45-4ed4-a28d-dc47a7408a47",
   "metadata": {},
   "source": [
    "#### Use Case: Removing duplicates from a list of elements like user IDs."
   ]
  },
  {
   "cell_type": "code",
   "execution_count": 66,
   "id": "9ed0134a-66a5-4485-9934-aeb29afa4109",
   "metadata": {},
   "outputs": [
    {
     "name": "stdout",
     "output_type": "stream",
     "text": [
      "{104, 101, 102, 103}\n"
     ]
    }
   ],
   "source": [
    "user_ids = [101, 102, 101, 103, 104, 102]\n",
    "unique_user_ids = set(user_ids)\n",
    "print(unique_user_ids)  # Output: {101, 102, 103, 104}"
   ]
  },
  {
   "cell_type": "markdown",
   "id": "5b55d992-1ea6-442e-a223-2c4af4f951d2",
   "metadata": {},
   "source": [
    "### 2.2 Checkng For Membership  "
   ]
  },
  {
   "cell_type": "markdown",
   "id": "4180270a-0eb5-41aa-89e5-f9806c0e07c4",
   "metadata": {},
   "source": [
    "#### Sets provide fast lookups for determining whether an item is present in the set."
   ]
  },
  {
   "cell_type": "markdown",
   "id": "b6c3a68e-f766-4336-a0f8-25da3f73b60b",
   "metadata": {},
   "source": [
    "#### Use Case: Checking for membership in a large dataset, such as checking if a word is in a dictionary or a product exists in a catalog"
   ]
  },
  {
   "cell_type": "code",
   "execution_count": 67,
   "id": "64c4a690-978a-42c5-ac65-dfa47123099e",
   "metadata": {},
   "outputs": [
    {
     "name": "stdout",
     "output_type": "stream",
     "text": [
      "Apple is a valid product\n"
     ]
    }
   ],
   "source": [
    "valid_products = {'apple', 'banana', 'cherry'}\n",
    "if 'apple' in valid_products:\n",
    "    print(\"Apple is a valid product\")  # Output: Apple is a valid product"
   ]
  },
  {
   "cell_type": "markdown",
   "id": "01efa1df-dd38-4bc5-838e-cbc4c29cd0bd",
   "metadata": {},
   "source": [
    "### 2.3 Finding Subsets and Supersets"
   ]
  },
  {
   "cell_type": "markdown",
   "id": "24a1b620-af07-4da9-a8f1-fc7fb6f8b647",
   "metadata": {},
   "source": [
    "#### Sets can be used to check whether one set is a subset or superset of another, which is useful in tasks like comparing access permissions or hierarchical data."
   ]
  },
  {
   "cell_type": "code",
   "execution_count": 68,
   "id": "30e011f8-2fa7-47e1-8fc8-ec529f8ff0b8",
   "metadata": {},
   "outputs": [
    {
     "name": "stdout",
     "output_type": "stream",
     "text": [
      "User has required permissions\n"
     ]
    }
   ],
   "source": [
    "required_permissions = {'read', 'write'}\n",
    "user_permissions = {'read', 'write', 'storage'}\n",
    "\n",
    "if required_permissions.issubset(user_permissions):\n",
    "    print(\"User has required permissions\")  # Output: User has required permissions"
   ]
  },
  {
   "cell_type": "markdown",
   "id": "f12d2611-ec1b-4a79-876b-1ab77428a1b9",
   "metadata": {},
   "source": [
    "### 2.4 Working with Unique Collections"
   ]
  },
  {
   "cell_type": "markdown",
   "id": "8771c4da-a805-48d2-9173-ef7d6085c924",
   "metadata": {},
   "source": [
    "#### Sets are useful when the uniqueness of elements is important, such as tracking unique visitors to a website or unique book in a library."
   ]
  },
  {
   "cell_type": "code",
   "execution_count": 69,
   "id": "e9cb54b8-2b52-4795-a230-6896ff351f9b",
   "metadata": {},
   "outputs": [
    {
     "name": "stdout",
     "output_type": "stream",
     "text": [
      "4\n"
     ]
    }
   ],
   "source": [
    "visitors = {'Ajay Sir', 'John Carter', 'Jordan', 'Thor'}\n",
    "unique_visitors = len(visitors)\n",
    "print(unique_visitors)  # Output: 3"
   ]
  },
  {
   "cell_type": "markdown",
   "id": "b8d2f3e3-e73d-4808-b62f-05f2f32ce5ce",
   "metadata": {},
   "source": [
    "### 2.5 Mathematical Set Operations"
   ]
  },
  {
   "cell_type": "markdown",
   "id": "b6398baf-396c-4277-8eb6-8531e70f4d77",
   "metadata": {},
   "source": [
    "#### Sets support efficient union, intersection, difference, and symmetric difference operations, which are useful for working with multiple collections."
   ]
  },
  {
   "cell_type": "markdown",
   "id": "d6374a23-a360-490b-8a73-d68838ff533c",
   "metadata": {},
   "source": [
    "#### Use Case: Comparing datasets, such as finding common or unique elements across set."
   ]
  },
  {
   "cell_type": "code",
   "execution_count": 70,
   "id": "2540dfdf-8e24-4a18-8bf8-80191169f3cb",
   "metadata": {},
   "outputs": [
    {
     "name": "stdout",
     "output_type": "stream",
     "text": [
      "{1, 2, 3, 4, 5}\n",
      "{3}\n",
      "{1, 2}\n"
     ]
    }
   ],
   "source": [
    "set1 = {1, 2, 3}\n",
    "set2 = {3, 4, 5}\n",
    "\n",
    "# Union\n",
    "print(set1 | set2)  # Output: {1, 2, 3, 4, 5}\n",
    "\n",
    "# Intersection\n",
    "print(set1 & set2)  # Output: {3}\n",
    "\n",
    "# Difference\n",
    "print(set1 - set2)  # Output: {1, 2}\n"
   ]
  },
  {
   "cell_type": "markdown",
   "id": "45bdc2a5-6cd7-4094-be0f-ba685aad6981",
   "metadata": {},
   "source": [
    "__________________________________________________________"
   ]
  },
  {
   "cell_type": "markdown",
   "id": "bc8fbaed-42b0-454a-828b-f35ee0251984",
   "metadata": {},
   "source": [
    "## Question_7 : Describe how to add, modify, and delete items in a dictionary with examples."
   ]
  },
  {
   "cell_type": "markdown",
   "id": "4b25da9e-356b-43f2-a19f-2d71fc7dc24d",
   "metadata": {},
   "source": [
    "### Solution :"
   ]
  },
  {
   "cell_type": "markdown",
   "id": "04df3f7b-4598-4bb5-a481-50c809f96928",
   "metadata": {},
   "source": [
    "#### Dictionaries are collections of key-value pairs, where each key is unique."
   ]
  },
  {
   "cell_type": "markdown",
   "id": "0717f297-e4c8-4fb9-95a6-28f444de63a9",
   "metadata": {},
   "source": [
    "### 1. Adding Items to a Dictionary"
   ]
  },
  {
   "cell_type": "markdown",
   "id": "c2475226-14a8-4aef-b4d0-339c9af84478",
   "metadata": {},
   "source": [
    "#### We can add items to a dictionary by assigning a value to a new key. If the key already exists, its value will be updated."
   ]
  },
  {
   "cell_type": "code",
   "execution_count": 71,
   "id": "ece211f1-aaa6-4da8-a1ef-9a6ebee8d9f1",
   "metadata": {},
   "outputs": [
    {
     "name": "stdout",
     "output_type": "stream",
     "text": [
      "{'name': 'Sudhakar', 'age': 26, 'city': 'Pune'}\n"
     ]
    }
   ],
   "source": [
    "# Creating an empty dictionary\n",
    "my_dict = {}\n",
    "\n",
    "# Adding items\n",
    "my_dict['name'] = 'Sudhakar'\n",
    "my_dict['age'] = 26\n",
    "my_dict['city'] = 'Pune'\n",
    "\n",
    "print(my_dict) "
   ]
  },
  {
   "cell_type": "markdown",
   "id": "d9cd044f-0d90-4f14-bdc0-10179c51a8eb",
   "metadata": {},
   "source": [
    "#### We can also use the update() method to add multiple key-value pairs at once."
   ]
  },
  {
   "cell_type": "code",
   "execution_count": 72,
   "id": "68f579ba-123a-486c-93b6-9ecd016a53e0",
   "metadata": {},
   "outputs": [
    {
     "name": "stdout",
     "output_type": "stream",
     "text": [
      "{'name': 'Sudhakar', 'age': 26, 'city': 'Pune', 'job': 'Engineer', 'salary': 70000}\n"
     ]
    }
   ],
   "source": [
    "# Adding multiple items at once\n",
    "my_dict.update({'job': 'Engineer', 'salary': 70000})\n",
    "\n",
    "print(my_dict)"
   ]
  },
  {
   "cell_type": "markdown",
   "id": "0260e776-4578-409f-949d-f4954d2d4c26",
   "metadata": {},
   "source": [
    "### 2. Modifying Items in a Dictionary"
   ]
  },
  {
   "cell_type": "markdown",
   "id": "4fd1baaa-437d-4562-9f4d-e365f8b856d8",
   "metadata": {},
   "source": [
    "#### To modify a dictionary item,wer need to assign a new value to an existing key. If the key exists, the value is updated; if it doesn’t exist, the key is added with the new value."
   ]
  },
  {
   "cell_type": "code",
   "execution_count": 73,
   "id": "18c51cbe-6c2f-46fa-a5a2-2249d74ffaba",
   "metadata": {},
   "outputs": [
    {
     "name": "stdout",
     "output_type": "stream",
     "text": [
      "{'name': 'Sudhakar', 'age': 21, 'city': 'Bokaro', 'job': 'Engineer', 'salary': 70000}\n"
     ]
    }
   ],
   "source": [
    "# Modifying an existing item\n",
    "my_dict['age'] = 21  # Changing 'age' from 25 to 21\n",
    "my_dict['city'] = 'Bokaro'  # Changing 'city' from 'Pune' to 'Bokaro'\n",
    "\n",
    "print(my_dict)"
   ]
  },
  {
   "cell_type": "markdown",
   "id": "0d66b22d-21d8-4c9f-bc69-783bc05f311d",
   "metadata": {},
   "source": [
    "#### We can also use the update() method to modify multiple items at once."
   ]
  },
  {
   "cell_type": "code",
   "execution_count": 74,
   "id": "918f36e8-3626-4e6f-9bad-f826478c274b",
   "metadata": {},
   "outputs": [
    {
     "name": "stdout",
     "output_type": "stream",
     "text": [
      "{'name': 'Sudhakar', 'age': 27, 'city': 'Bokaro', 'job': 'Engineer', 'salary': 80000}\n"
     ]
    }
   ],
   "source": [
    "# Modifying multiple items\n",
    "my_dict.update({'age': 27, 'salary': 80000})\n",
    "\n",
    "print(my_dict)"
   ]
  },
  {
   "cell_type": "markdown",
   "id": "f839311f-2d9a-4aa3-b2a6-c08f6f4a22a5",
   "metadata": {},
   "source": [
    "### 3. Deleting Items from a Dictionary"
   ]
  },
  {
   "cell_type": "markdown",
   "id": "6223d694-fc4d-49c5-849c-8d32e0236070",
   "metadata": {},
   "source": [
    "#### There are multiple ways to delete items from a dictionary"
   ]
  },
  {
   "cell_type": "markdown",
   "id": "87c566ad-214b-4c50-8350-fc2ec038d711",
   "metadata": {},
   "source": [
    "### a) Using del Statement"
   ]
  },
  {
   "cell_type": "markdown",
   "id": "8e047ab1-3002-4eb5-a597-fee9e42c0a8e",
   "metadata": {},
   "source": [
    "#### The del statement removes a specific key-value pair by its key. If the key does not exist, Python raises a KeyError."
   ]
  },
  {
   "cell_type": "code",
   "execution_count": 75,
   "id": "383a1644-b5ce-4e27-ae7c-7bfda519550c",
   "metadata": {},
   "outputs": [
    {
     "name": "stdout",
     "output_type": "stream",
     "text": [
      "{'name': 'Sudhakar', 'age': 27, 'city': 'Bokaro', 'job': 'Engineer'}\n"
     ]
    }
   ],
   "source": [
    "# Deleting an item by key\n",
    "del my_dict['salary']\n",
    "\n",
    "print(my_dict)"
   ]
  },
  {
   "cell_type": "markdown",
   "id": "ab4a6e8e-fd9c-45b6-b3ad-d8cd5c1a3917",
   "metadata": {},
   "source": [
    "### b) Using pop() Method"
   ]
  },
  {
   "cell_type": "markdown",
   "id": "3bcaf1fb-7bc5-4af0-8500-3e6834f96b71",
   "metadata": {},
   "source": [
    "#### The pop() method removes the item with the specified key and returns its value. If the key does not exist, Python raises a KeyError."
   ]
  },
  {
   "cell_type": "code",
   "execution_count": 76,
   "id": "ed85ff7b-1203-45b6-8c68-4e142c89282c",
   "metadata": {},
   "outputs": [
    {
     "name": "stdout",
     "output_type": "stream",
     "text": [
      "Engineer\n"
     ]
    }
   ],
   "source": [
    "# Removing an item and getting its value\n",
    "job = my_dict.pop('job')\n",
    "\n",
    "print(job)"
   ]
  },
  {
   "cell_type": "code",
   "execution_count": 77,
   "id": "8e4a239d-685c-4109-95f8-93ab708f40d8",
   "metadata": {},
   "outputs": [
    {
     "data": {
      "text/plain": [
       "{'name': 'Sudhakar', 'age': 27, 'city': 'Bokaro'}"
      ]
     },
     "execution_count": 77,
     "metadata": {},
     "output_type": "execute_result"
    }
   ],
   "source": [
    "my_dict # my_dict will not be ontaining key, value pair \"job\":\"Engineer\""
   ]
  },
  {
   "cell_type": "markdown",
   "id": "02c10f34-7945-42e4-a8d0-c32736a1ac04",
   "metadata": {},
   "source": [
    "### c) Using popitem() Method"
   ]
  },
  {
   "cell_type": "markdown",
   "id": "d5941ecf-d55c-42a2-9c45-7028afdd02b5",
   "metadata": {},
   "source": [
    "#### The popitem() method removes and returns the last inserted key-value pair from the dictionary.If the dictionary is empty, it raises a KeyError."
   ]
  },
  {
   "cell_type": "code",
   "execution_count": 78,
   "id": "08fae49d-9aab-49c0-b062-e41c60bb58b9",
   "metadata": {},
   "outputs": [
    {
     "name": "stdout",
     "output_type": "stream",
     "text": [
      "('city', 'Bokaro')\n",
      "{'name': 'Sudhakar', 'age': 21}\n"
     ]
    }
   ],
   "source": [
    "# Removing the last inserted item\n",
    "my_dict = {'name': 'Sudhakar', 'age': 21, 'city': 'Bokaro'}\n",
    "last_item = my_dict.popitem()\n",
    "\n",
    "print(last_item)\n",
    "print(my_dict)"
   ]
  },
  {
   "cell_type": "markdown",
   "id": "12193684-39b0-4de0-b143-43b0b0d0fca7",
   "metadata": {},
   "source": [
    "### d) Using clear() Method"
   ]
  },
  {
   "cell_type": "markdown",
   "id": "0a33c81f-3057-4db6-b98c-40a4410af4a9",
   "metadata": {},
   "source": [
    "#### The clear() method removes all items from the dictionary, leaving it empty."
   ]
  },
  {
   "cell_type": "code",
   "execution_count": 79,
   "id": "8fd5a72f-e3f5-4ae2-bbbb-d72642bf62b9",
   "metadata": {},
   "outputs": [
    {
     "name": "stdout",
     "output_type": "stream",
     "text": [
      "{}\n"
     ]
    }
   ],
   "source": [
    "# Clearing all items from the dictionary\n",
    "\n",
    "my_dict = {'name': 'Sudhakar', 'age': 21, 'city': 'Bokaro'}\n",
    "my_dict.clear()\n",
    "print(my_dict)  # Output: {}"
   ]
  },
  {
   "cell_type": "markdown",
   "id": "1d6533f0-bb43-4f62-be55-c4dabf0d4423",
   "metadata": {},
   "source": [
    "_______________"
   ]
  },
  {
   "cell_type": "markdown",
   "id": "7a0c67bc-27fb-4854-b2ec-14fdc3cfb04c",
   "metadata": {},
   "source": [
    "## Question_8 :  Discuss the importance of dictionary keys being immutable and provide examples."
   ]
  },
  {
   "cell_type": "markdown",
   "id": "5dd7b0d8-635c-430b-9ba9-de5d81c26a23",
   "metadata": {},
   "source": [
    "### Solution :"
   ]
  },
  {
   "cell_type": "markdown",
   "id": "8f371889-c806-4a5d-82fd-0d0c650946a8",
   "metadata": {},
   "source": [
    "#### Dictionary keys must be immutable to ensure they can be hashed and used efficiently."
   ]
  },
  {
   "cell_type": "markdown",
   "id": "23b19314-e0fa-44b8-b295-008423533460",
   "metadata": {},
   "source": [
    "#### This immutability is crucial because dictionaries are implemented as hash tables, where each key’s hash value determines where its corresponding value will be stored. If dictionary keys were mutable, the hash value could change over time, causing inconsistencies in data retrieval and storage."
   ]
  },
  {
   "cell_type": "markdown",
   "id": "917062a8-bf0f-4b6e-b3e8-1776c24e0d54",
   "metadata": {},
   "source": [
    "#### Below mentioned shows importance of dictionary keys being immutable with examples."
   ]
  },
  {
   "cell_type": "markdown",
   "id": "8727797f-b788-4095-8da8-3dea1a8baaf8",
   "metadata": {},
   "source": [
    "### 1. Hashing and Lookup Efficiency"
   ]
  },
  {
   "cell_type": "markdown",
   "id": "e9688bbd-710b-4c12-8a67-cd4941832ef1",
   "metadata": {},
   "source": [
    "#### Python dictionaries rely on a hash table, where each key is hashed (i.e., converted into a unique integer) using Python's built-in hash() function. This hash value determines where the key-value pair will be stored in memory."
   ]
  },
  {
   "cell_type": "markdown",
   "id": "511889be-3ee7-4314-b682-be38dcc1168d",
   "metadata": {},
   "source": [
    "#### For a dictionary to quickly find or retrieve values, the key must always hash to the same value. This can only be guaranteed if the key is immutable."
   ]
  },
  {
   "cell_type": "code",
   "execution_count": 80,
   "id": "dbe2d74d-0bac-487d-a2d6-fa8dbd214748",
   "metadata": {},
   "outputs": [],
   "source": [
    "# Immutable types (like integers and strings) can be used as dictionary keys\n",
    "my_dict = {\n",
    "    1: \"one\",          # Integer (immutable)\n",
    "    \"name\": \"Alice\",   # String (immutable)\n",
    "    (10, 20): \"coords\" # Tuple (immutable)\n",
    "}\n",
    "\n",
    "# This works because these keys are immutable and their hash value won't change."
   ]
  },
  {
   "cell_type": "code",
   "execution_count": 81,
   "id": "75d83e20-72be-4041-8da7-3fe40c9d4c28",
   "metadata": {},
   "outputs": [
    {
     "data": {
      "text/plain": [
       "1"
      ]
     },
     "execution_count": 81,
     "metadata": {},
     "output_type": "execute_result"
    }
   ],
   "source": [
    "hash(1)"
   ]
  },
  {
   "cell_type": "code",
   "execution_count": 82,
   "id": "9d214151-26a1-4398-9767-f666cc8021a5",
   "metadata": {},
   "outputs": [
    {
     "data": {
      "text/plain": [
       "4453541068720048199"
      ]
     },
     "execution_count": 82,
     "metadata": {},
     "output_type": "execute_result"
    }
   ],
   "source": [
    "hash(\"name\")"
   ]
  },
  {
   "cell_type": "markdown",
   "id": "14c8e838-c0d4-4fce-b43e-dc3493b2ff6f",
   "metadata": {},
   "source": [
    "### 2. Immutability Prevents Inconsistent Behavior"
   ]
  },
  {
   "cell_type": "markdown",
   "id": "687881a1-b747-4005-a8fa-1a35a7026798",
   "metadata": {},
   "source": [
    "#### If a mutable object, such as a list, were allowed as a key, and its content changed, it could cause inconsistencies. The hash value used to store the key-value pair would change, making it impossible to retrieve the value using the same key."
   ]
  },
  {
   "cell_type": "raw",
   "id": "3cae98ef-e675-4c77-9de6-ea15a803fea7",
   "metadata": {},
   "source": [
    "# If Python allowed mutable keys (hypothetical scenario):\n",
    "my_dict = {[1, 2]: \"list_key\"}  # Suppose this worked (it doesn't)\n",
    "\n",
    "# If we changed the list, the hash value would change:\n",
    "my_dict[[1, 2]].append(3)  # Now, the original hash would no longer point to the correct location in memory."
   ]
  },
  {
   "cell_type": "markdown",
   "id": "c2cda01e-bc00-437d-b5c5-119f55567401",
   "metadata": {},
   "source": [
    "### 3. Performance Considerations"
   ]
  },
  {
   "cell_type": "markdown",
   "id": "974fe457-4bb6-45bf-a6ea-86335c8fa91f",
   "metadata": {},
   "source": [
    "#### Because dictionary lookups and insertions rely on hashing, the efficiency of these operations depends on the immutability of keys. Immutable keys ensure that hash values remain constant, allowing for O(1) average time complexity for lookups, insertions, and deletions."
   ]
  },
  {
   "cell_type": "markdown",
   "id": "c71d2cc2-641a-4496-8bbf-27ddaf23d8a7",
   "metadata": {},
   "source": [
    "___________________________"
   ]
  },
  {
   "cell_type": "code",
   "execution_count": null,
   "id": "646b554e-519a-4451-bdca-e6c5795f60d7",
   "metadata": {},
   "outputs": [],
   "source": []
  }
 ],
 "metadata": {
  "kernelspec": {
   "display_name": "Python 3 (ipykernel)",
   "language": "python",
   "name": "python3"
  },
  "language_info": {
   "codemirror_mode": {
    "name": "ipython",
    "version": 3
   },
   "file_extension": ".py",
   "mimetype": "text/x-python",
   "name": "python",
   "nbconvert_exporter": "python",
   "pygments_lexer": "ipython3",
   "version": "3.10.8"
  }
 },
 "nbformat": 4,
 "nbformat_minor": 5
}
